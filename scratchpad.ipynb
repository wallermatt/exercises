{
 "cells": [
  {
   "cell_type": "code",
   "execution_count": 4,
   "metadata": {},
   "outputs": [
    {
     "name": "stdout",
     "output_type": "stream",
     "text": [
      "<generator object test at 0x10af98580>\n",
      "2\n"
     ]
    },
    {
     "ename": "StopIteration",
     "evalue": "",
     "output_type": "error",
     "traceback": [
      "\u001b[0;31m---------------------------------------------------------------------------\u001b[0m",
      "\u001b[0;31mStopIteration\u001b[0m                             Traceback (most recent call last)",
      "\u001b[1;32m/Users/matthew/projects/exercises/scratchpad.ipynb Cell 1\u001b[0m in \u001b[0;36m<cell line: 9>\u001b[0;34m()\u001b[0m\n\u001b[1;32m      <a href='vscode-notebook-cell:/Users/matthew/projects/exercises/scratchpad.ipynb#W0sZmlsZQ%3D%3D?line=6'>7</a>\u001b[0m \u001b[39mprint\u001b[39m(y)\n\u001b[1;32m      <a href='vscode-notebook-cell:/Users/matthew/projects/exercises/scratchpad.ipynb#W0sZmlsZQ%3D%3D?line=7'>8</a>\u001b[0m \u001b[39mprint\u001b[39m(\u001b[39mnext\u001b[39m(y))\n\u001b[0;32m----> <a href='vscode-notebook-cell:/Users/matthew/projects/exercises/scratchpad.ipynb#W0sZmlsZQ%3D%3D?line=8'>9</a>\u001b[0m \u001b[39mprint\u001b[39m(\u001b[39mnext\u001b[39;49m(y))\n",
      "\u001b[0;31mStopIteration\u001b[0m: "
     ]
    }
   ],
   "source": [
    "def test(x):\n",
    "    x += 1\n",
    "    yield x\n",
    "\n",
    "\n",
    "y = test(1)\n",
    "print(y)\n",
    "print(next(y))\n",
    "print(next(y))"
   ]
  },
  {
   "cell_type": "code",
   "execution_count": 2,
   "metadata": {},
   "outputs": [
    {
     "data": {
      "text/plain": [
       "2"
      ]
     },
     "execution_count": 2,
     "metadata": {},
     "output_type": "execute_result"
    }
   ],
   "source": [
    "2 if 1 else 3"
   ]
  },
  {
   "cell_type": "code",
   "execution_count": 7,
   "metadata": {},
   "outputs": [
    {
     "name": "stdout",
     "output_type": "stream",
     "text": [
      "[0, 1, 2, 3, 4]\n",
      "<generator object <genexpr> at 0x10fe32270>\n",
      "0\n"
     ]
    }
   ],
   "source": [
    "a = [e for e in range(5)]\n",
    "print(a)\n",
    "\n",
    "b = (e for e in range(5))\n",
    "print(b)\n",
    "print(next(b))"
   ]
  },
  {
   "cell_type": "code",
   "execution_count": 1,
   "metadata": {},
   "outputs": [
    {
     "name": "stdout",
     "output_type": "stream",
     "text": [
      "<generator object gen_test at 0x107ed1b30>\n",
      "0\n",
      "<function gen_test at 0x107ed71f0>\n",
      "0\n",
      "0\n"
     ]
    }
   ],
   "source": [
    "def gen_test():\n",
    "    for e in range(5):\n",
    "        yield e\n",
    "\n",
    "x = gen_test()\n",
    "print(x)\n",
    "print(next(x))\n",
    "\n",
    "y = gen_test\n",
    "print(y)\n",
    "y()\n",
    "print(next(y()))\n",
    "print(next(y()))\n"
   ]
  },
  {
   "cell_type": "code",
   "execution_count": 16,
   "metadata": {},
   "outputs": [
    {
     "data": {
      "text/plain": [
       "True"
      ]
     },
     "execution_count": 16,
     "metadata": {},
     "output_type": "execute_result"
    }
   ],
   "source": [
    "def check_palindrome(s):\n",
    "    len_s = len(s)\n",
    "    left_s = s[:len_s//2]\n",
    "    if len_s % 2 == 1:\n",
    "        right_s = s[(len_s//2)+1:]\n",
    "    else:\n",
    "        right_s = s[(len_s//2):]\n",
    "    if left_s == right_s[::-1]:\n",
    "        return True\n",
    "    return False\n",
    "\n",
    "check_palindrome(\"ab\")\n",
    "check_palindrome(\"abc\")\n",
    "check_palindrome(\"abcd\")\n",
    "check_palindrome(\"abcde\")\n",
    "check_palindrome(\"aa\")"
   ]
  },
  {
   "cell_type": "code",
   "execution_count": 1,
   "metadata": {},
   "outputs": [
    {
     "name": "stdout",
     "output_type": "stream",
     "text": [
      "i, e:  0 1\n",
      "i, e:  0 2\n",
      "[[2]] 1 [2]\n",
      "i, e:  1 2\n",
      "i, e:  0 1\n",
      "i, e:  0 2\n",
      "[[2]] 1 [2]\n",
      "i, e:  1 2\n",
      "[[1, 2], [1, 2]]\n"
     ]
    }
   ],
   "source": [
    "def get_combinations(nums, size):\n",
    "    results = []\n",
    "    for n in range(size):\n",
    "        for i, e in enumerate(nums):\n",
    "            print('i, e: ', i,e)\n",
    "            # remaining_list = nums[:i] + nums[i+1:]\n",
    "            remaining_list = nums[i+1:]\n",
    "            sub_results = []\n",
    "            if size > 1:\n",
    "                sub_results = get_combinations(remaining_list, size-1)\n",
    "                for s in sub_results:\n",
    "                    print(sub_results, e, s)\n",
    "                    results.append([e] + s)\n",
    "            else:\n",
    "                results.append([e])\n",
    "    return results\n",
    "\n",
    "#print(get_combinations([1], 1))\n",
    "#print(get_combinations([1,2], 1))\n",
    "#print(get_combinations([1,2,3], 1))\n",
    "print(get_combinations([1,2], 2))\n",
    "#print(get_combinations([1,2,3], 3))"
   ]
  },
  {
   "cell_type": "code",
   "execution_count": 11,
   "metadata": {},
   "outputs": [
    {
     "name": "stdout",
     "output_type": "stream",
     "text": [
      "[[1, 2], [1, 3], [2, 3]]\n"
     ]
    }
   ],
   "source": [
    "def get_three(nums):\n",
    "    results = []\n",
    "    for i, n in enumerate(nums):\n",
    "        for r in get_three(nums[i+1:]):\n",
    "            results.append([n] + r)\n",
    "    return results\n",
    "\n",
    "def get_two(nums):\n",
    "    results = []\n",
    "    for i, n in enumerate(nums):\n",
    "        for r in get_one(nums[i+1:]):\n",
    "            results.append([n] + r)\n",
    "    return results\n",
    "\n",
    "def get_one(nums):\n",
    "    results = []\n",
    "    for n in nums:\n",
    "        results.append([n])\n",
    "    return results\n",
    "\n",
    "\n",
    "#print(get_one([1,2,3]))\n",
    "print(get_two([1,2,3]))"
   ]
  },
  {
   "cell_type": "code",
   "execution_count": 6,
   "metadata": {},
   "outputs": [
    {
     "data": {
      "text/plain": [
       "[1, 2]"
      ]
     },
     "execution_count": 6,
     "metadata": {},
     "output_type": "execute_result"
    }
   ],
   "source": [
    "[1] + [2]"
   ]
  },
  {
   "cell_type": "code",
   "execution_count": 9,
   "metadata": {},
   "outputs": [
    {
     "data": {
      "text/plain": [
       "[]"
      ]
     },
     "execution_count": 9,
     "metadata": {},
     "output_type": "execute_result"
    }
   ],
   "source": [
    "x = [1,2,3]\n",
    "x[3:]"
   ]
  },
  {
   "cell_type": "code",
   "execution_count": null,
   "metadata": {},
   "outputs": [],
   "source": []
  }
 ],
 "metadata": {
  "kernelspec": {
   "display_name": "Python 3.9.10 ('ex')",
   "language": "python",
   "name": "python3"
  },
  "language_info": {
   "codemirror_mode": {
    "name": "ipython",
    "version": 3
   },
   "file_extension": ".py",
   "mimetype": "text/x-python",
   "name": "python",
   "nbconvert_exporter": "python",
   "pygments_lexer": "ipython3",
   "version": "3.9.10"
  },
  "orig_nbformat": 4,
  "vscode": {
   "interpreter": {
    "hash": "495c69ae33285a01faacf5f3cf326544e0ba027dd1e07755259fc062415a3a4c"
   }
  }
 },
 "nbformat": 4,
 "nbformat_minor": 2
}
