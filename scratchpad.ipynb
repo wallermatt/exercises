{
 "cells": [
  {
   "cell_type": "code",
   "execution_count": 1,
   "metadata": {},
   "outputs": [
    {
     "name": "stdout",
     "output_type": "stream",
     "text": [
      "8\n",
      "6\n",
      "4\n",
      "2\n"
     ]
    }
   ],
   "source": [
    "import random\n",
    "\n",
    "random.randrange(-1:2)\n"
   ]
  },
  {
   "cell_type": "code",
   "execution_count": 12,
   "metadata": {},
   "outputs": [
    {
     "name": "stdout",
     "output_type": "stream",
     "text": [
      "2\n",
      "1\n",
      "0\n"
     ]
    }
   ],
   "source": [
    "x = [1,2,3]\n",
    "for i in range(len(x),0,-1):\n",
    "    print(i-1)"
   ]
  },
  {
   "cell_type": "code",
   "execution_count": 4,
   "metadata": {},
   "outputs": [
    {
     "name": "stdout",
     "output_type": "stream",
     "text": [
      "1 2\n",
      "1 3\n",
      "1 4\n",
      "1 5\n",
      "2 3\n",
      "2 4\n",
      "2 5\n",
      "3 4\n",
      "3 5\n",
      "4 5\n"
     ]
    }
   ],
   "source": [
    "x = [1,2,3,4,5]\n",
    "for i,left in enumerate(x):\n",
    "    for right in x[i+1:]:\n",
    "        print(left, right)\n"
   ]
  },
  {
   "cell_type": "code",
   "execution_count": 16,
   "metadata": {},
   "outputs": [
    {
     "data": {
      "text/plain": [
       "True"
      ]
     },
     "execution_count": 16,
     "metadata": {},
     "output_type": "execute_result"
    }
   ],
   "source": [
    "def check_palindrome(s):\n",
    "    len_s = len(s)\n",
    "    left_s = s[:len_s//2]\n",
    "    if len_s % 2 == 1:\n",
    "        right_s = s[(len_s//2)+1:]\n",
    "    else:\n",
    "        right_s = s[(len_s//2):]\n",
    "    if left_s == right_s[::-1]:\n",
    "        return True\n",
    "    return False\n",
    "\n",
    "check_palindrome(\"ab\")\n",
    "check_palindrome(\"abc\")\n",
    "check_palindrome(\"abcd\")\n",
    "check_palindrome(\"abcde\")\n",
    "check_palindrome(\"aa\")"
   ]
  },
  {
   "cell_type": "code",
   "execution_count": 1,
   "metadata": {},
   "outputs": [
    {
     "name": "stdout",
     "output_type": "stream",
     "text": [
      "i, e:  0 1\n",
      "i, e:  0 2\n",
      "[[2]] 1 [2]\n",
      "i, e:  1 2\n",
      "i, e:  0 1\n",
      "i, e:  0 2\n",
      "[[2]] 1 [2]\n",
      "i, e:  1 2\n",
      "[[1, 2], [1, 2]]\n"
     ]
    }
   ],
   "source": [
    "def get_combinations(nums, size):\n",
    "    results = []\n",
    "    for n in range(size):\n",
    "        for i, e in enumerate(nums):\n",
    "            print('i, e: ', i,e)\n",
    "            # remaining_list = nums[:i] + nums[i+1:]\n",
    "            remaining_list = nums[i+1:]\n",
    "            sub_results = []\n",
    "            if size > 1:\n",
    "                sub_results = get_combinations(remaining_list, size-1)\n",
    "                for s in sub_results:\n",
    "                    print(sub_results, e, s)\n",
    "                    results.append([e] + s)\n",
    "            else:\n",
    "                results.append([e])\n",
    "    return results\n",
    "\n",
    "#print(get_combinations([1], 1))\n",
    "#print(get_combinations([1,2], 1))\n",
    "#print(get_combinations([1,2,3], 1))\n",
    "print(get_combinations([1,2], 2))\n",
    "#print(get_combinations([1,2,3], 3))"
   ]
  },
  {
   "cell_type": "code",
   "execution_count": 11,
   "metadata": {},
   "outputs": [
    {
     "name": "stdout",
     "output_type": "stream",
     "text": [
      "[[1, 2], [1, 3], [2, 3]]\n"
     ]
    }
   ],
   "source": [
    "def get_three(nums):\n",
    "    results = []\n",
    "    for i, n in enumerate(nums):\n",
    "        for r in get_three(nums[i+1:]):\n",
    "            results.append([n] + r)\n",
    "    return results\n",
    "\n",
    "def get_two(nums):\n",
    "    results = []\n",
    "    for i, n in enumerate(nums):\n",
    "        for r in get_one(nums[i+1:]):\n",
    "            results.append([n] + r)\n",
    "    return results\n",
    "\n",
    "def get_one(nums):\n",
    "    results = []\n",
    "    for n in nums:\n",
    "        results.append([n])\n",
    "    return results\n",
    "\n",
    "\n",
    "#print(get_one([1,2,3]))\n",
    "print(get_two([1,2,3]))"
   ]
  },
  {
   "cell_type": "code",
   "execution_count": 6,
   "metadata": {},
   "outputs": [
    {
     "data": {
      "text/plain": [
       "[1, 2]"
      ]
     },
     "execution_count": 6,
     "metadata": {},
     "output_type": "execute_result"
    }
   ],
   "source": [
    "[1] + [2]"
   ]
  },
  {
   "cell_type": "code",
   "execution_count": 9,
   "metadata": {},
   "outputs": [
    {
     "data": {
      "text/plain": [
       "[]"
      ]
     },
     "execution_count": 9,
     "metadata": {},
     "output_type": "execute_result"
    }
   ],
   "source": [
    "x = [1,2,3]\n",
    "x[3:]"
   ]
  },
  {
   "cell_type": "code",
   "execution_count": null,
   "metadata": {},
   "outputs": [],
   "source": []
  }
 ],
 "metadata": {
  "kernelspec": {
   "display_name": "Python 3.8.9 ('ex')",
   "language": "python",
   "name": "python3"
  },
  "language_info": {
   "codemirror_mode": {
    "name": "ipython",
    "version": 3
   },
   "file_extension": ".py",
   "mimetype": "text/x-python",
   "name": "python",
   "nbconvert_exporter": "python",
   "pygments_lexer": "ipython3",
   "version": "3.8.9"
  },
  "orig_nbformat": 4,
  "vscode": {
   "interpreter": {
    "hash": "ed89764d4ab1864ddcc1ce5cf5ea0ea3df4a7433ebd584350a726fb860669eda"
   }
  }
 },
 "nbformat": 4,
 "nbformat_minor": 2
}
