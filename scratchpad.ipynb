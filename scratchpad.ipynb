{
 "cells": [
  {
   "cell_type": "code",
   "execution_count": 2,
   "metadata": {},
   "outputs": [
    {
     "name": "stdout",
     "output_type": "stream",
     "text": [
      "5\n"
     ]
    }
   ],
   "source": [
    "print(abs(-5))\n",
    "\n",
    "    \n"
   ]
  },
  {
   "cell_type": "markdown",
   "metadata": {},
   "source": []
  },
  {
   "cell_type": "code",
   "execution_count": 26,
   "metadata": {},
   "outputs": [
    {
     "name": "stdout",
     "output_type": "stream",
     "text": [
      "1\n",
      "-1\n",
      "-21\n",
      "-321\n",
      "1\n",
      "21\n",
      "321\n"
     ]
    }
   ],
   "source": [
    "def reverse(n):\n",
    "    if abs(n) < 10:\n",
    "        return n\n",
    "    reversed_n = 0\n",
    "    if n >= 0:\n",
    "        multiplier = 1\n",
    "    else:\n",
    "        multiplier = -1 \n",
    "    while abs(n) >= 10:\n",
    "        d = n % (10 * multiplier)\n",
    "        reversed_n *= 10\n",
    "        reversed_n += d \n",
    "        n = (abs(n) // 10) * multiplier\n",
    "    reversed_n *= 10\n",
    "    reversed_n += n\n",
    "    if reversed_n > 2**31 - 1:\n",
    "        return 2**31 -1\n",
    "    elif reversed_n < -2**31:\n",
    "        return -2**31\n",
    "    return reversed_n\n",
    "\n",
    "print(reverse(10))\n",
    "print(reverse(-1))\n",
    "print(reverse(-12))\n",
    "print(reverse(-123))\n",
    "\n",
    "print(reverse(1))\n",
    "print(reverse(12))\n",
    "print(reverse(123))"
   ]
  },
  {
   "cell_type": "code",
   "execution_count": 27,
   "metadata": {},
   "outputs": [
    {
     "data": {
      "text/plain": [
       "-2147483648"
      ]
     },
     "execution_count": 27,
     "metadata": {},
     "output_type": "execute_result"
    }
   ],
   "source": [
    "-2**31"
   ]
  },
  {
   "cell_type": "markdown",
   "metadata": {},
   "source": []
  },
  {
   "cell_type": "markdown",
   "metadata": {},
   "source": []
  },
  {
   "cell_type": "code",
   "execution_count": 1,
   "metadata": {},
   "outputs": [
    {
     "name": "stdout",
     "output_type": "stream",
     "text": [
      "i, e:  0 1\n",
      "i, e:  0 2\n",
      "[[2]] 1 [2]\n",
      "i, e:  1 2\n",
      "i, e:  0 1\n",
      "i, e:  0 2\n",
      "[[2]] 1 [2]\n",
      "i, e:  1 2\n",
      "[[1, 2], [1, 2]]\n"
     ]
    }
   ],
   "source": [
    "def get_combinations(nums, size):\n",
    "    results = []\n",
    "    for n in range(size):\n",
    "        for i, e in enumerate(nums):\n",
    "            print('i, e: ', i,e)\n",
    "            # remaining_list = nums[:i] + nums[i+1:]\n",
    "            remaining_list = nums[i+1:]\n",
    "            sub_results = []\n",
    "            if size > 1:\n",
    "                sub_results = get_combinations(remaining_list, size-1)\n",
    "                for s in sub_results:\n",
    "                    print(sub_results, e, s)\n",
    "                    results.append([e] + s)\n",
    "            else:\n",
    "                results.append([e])\n",
    "    return results\n",
    "\n",
    "#print(get_combinations([1], 1))\n",
    "#print(get_combinations([1,2], 1))\n",
    "#print(get_combinations([1,2,3], 1))\n",
    "print(get_combinations([1,2], 2))\n",
    "#print(get_combinations([1,2,3], 3))"
   ]
  },
  {
   "cell_type": "code",
   "execution_count": 11,
   "metadata": {},
   "outputs": [
    {
     "name": "stdout",
     "output_type": "stream",
     "text": [
      "[[1, 2], [1, 3], [2, 3]]\n"
     ]
    }
   ],
   "source": [
    "def get_three(nums):\n",
    "    results = []\n",
    "    for i, n in enumerate(nums):\n",
    "        for r in get_three(nums[i+1:]):\n",
    "            results.append([n] + r)\n",
    "    return results\n",
    "\n",
    "def get_two(nums):\n",
    "    results = []\n",
    "    for i, n in enumerate(nums):\n",
    "        for r in get_one(nums[i+1:]):\n",
    "            results.append([n] + r)\n",
    "    return results\n",
    "\n",
    "def get_one(nums):\n",
    "    results = []\n",
    "    for n in nums:\n",
    "        results.append([n])\n",
    "    return results\n",
    "\n",
    "\n",
    "#print(get_one([1,2,3]))\n",
    "print(get_two([1,2,3]))"
   ]
  },
  {
   "cell_type": "code",
   "execution_count": 6,
   "metadata": {},
   "outputs": [
    {
     "data": {
      "text/plain": [
       "[1, 2]"
      ]
     },
     "execution_count": 6,
     "metadata": {},
     "output_type": "execute_result"
    }
   ],
   "source": [
    "[1] + [2]"
   ]
  },
  {
   "cell_type": "code",
   "execution_count": 9,
   "metadata": {},
   "outputs": [
    {
     "data": {
      "text/plain": [
       "[]"
      ]
     },
     "execution_count": 9,
     "metadata": {},
     "output_type": "execute_result"
    }
   ],
   "source": [
    "x = [1,2,3]\n",
    "x[3:]"
   ]
  },
  {
   "cell_type": "code",
   "execution_count": null,
   "metadata": {},
   "outputs": [],
   "source": []
  }
 ],
 "metadata": {
  "kernelspec": {
   "display_name": "Python 3.6.9 64-bit",
   "language": "python",
   "name": "python3"
  },
  "language_info": {
   "codemirror_mode": {
    "name": "ipython",
    "version": 3
   },
   "file_extension": ".py",
   "mimetype": "text/x-python",
   "name": "python",
   "nbconvert_exporter": "python",
   "pygments_lexer": "ipython3",
   "version": "3.6.9"
  },
  "orig_nbformat": 4,
  "vscode": {
   "interpreter": {
    "hash": "31f2aee4e71d21fbe5cf8b01ff0e069b9275f58929596ceb00d14d90e3e16cd6"
   }
  }
 },
 "nbformat": 4,
 "nbformat_minor": 2
}
